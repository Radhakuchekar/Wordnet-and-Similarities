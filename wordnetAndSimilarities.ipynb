{
 "cells": [
  {
   "cell_type": "code",
   "execution_count": 1,
   "metadata": {},
   "outputs": [
    {
     "name": "stderr",
     "output_type": "stream",
     "text": [
      "[nltk_data] Downloading package wordnet to /home/dell/nltk_data...\n",
      "[nltk_data]   Package wordnet is already up-to-date!\n",
      "[nltk_data] Downloading package wordnet_ic to /home/dell/nltk_data...\n",
      "[nltk_data]   Package wordnet_ic is already up-to-date!\n",
      "[nltk_data] Downloading package genesis to /home/dell/nltk_data...\n",
      "[nltk_data]   Package genesis is already up-to-date!\n"
     ]
    },
    {
     "data": {
      "text/plain": [
       "True"
      ]
     },
     "execution_count": 1,
     "metadata": {},
     "output_type": "execute_result"
    }
   ],
   "source": [
    "import nltk\n",
    "nltk.download('wordnet')\n",
    "nltk.download('wordnet_ic')\n",
    "nltk.download('genesis')"
   ]
  },
  {
   "cell_type": "code",
   "execution_count": 1,
   "metadata": {},
   "outputs": [],
   "source": [
    "from nltk.corpus import wordnet as wn"
   ]
  },
  {
   "cell_type": "code",
   "execution_count": 2,
   "metadata": {},
   "outputs": [
    {
     "name": "stdout",
     "output_type": "stream",
     "text": [
      "Path based similarity:  0.0625\n",
      "Leacock Chordorow similarity:  0.8649974374866046\n"
     ]
    }
   ],
   "source": [
    "syn1 = wn.synsets('good')[0]\n",
    "syn2 = wn.synsets('nice')[0]\n",
    "print(\"Path based similarity: \",syn1.path_similarity(syn2))\n",
    "print(\"Leacock Chordorow similarity: \",syn1.lch_similarity(syn2))"
   ]
  },
  {
   "cell_type": "code",
   "execution_count": 3,
   "metadata": {},
   "outputs": [
    {
     "name": "stdout",
     "output_type": "stream",
     "text": [
      "Resnik Similarity - Brown IC  4.31904854177692\n",
      "Resnik Similarity - Genesis IC  2.255687820984285\n"
     ]
    }
   ],
   "source": [
    "#Resnik Similarity\n",
    "from nltk.corpus import wordnet_ic\n",
    "brown_ic = wordnet_ic.ic('ic-brown.dat')\n",
    "from nltk.corpus import genesis\n",
    "genesis_ic = wn.ic(genesis, False, 0.0)\n",
    "district = wn.synset('district.n.01')\n",
    "city = wn.synset('city.n.01')\n",
    "print(\"Resnik Similarity - Brown IC \", district.res_similarity(city, brown_ic))\n",
    "print(\"Resnik Similarity - Genesis IC \",district.res_similarity(city, genesis_ic))"
   ]
  },
  {
   "cell_type": "code",
   "execution_count": 4,
   "metadata": {},
   "outputs": [
    {
     "name": "stdout",
     "output_type": "stream",
     "text": [
      "Lin Similarity - Brown IC  0.8253558666312026\n",
      "Lin Similarity - Genesis IC  0.6535457577416115\n"
     ]
    }
   ],
   "source": [
    "#Lin Similarity\n",
    "print(\"Lin Similarity - Brown IC \", district.lin_similarity(city, brown_ic))\n",
    "print(\"Lin Similarity - Genesis IC \",district.lin_similarity(city, genesis_ic))"
   ]
  },
  {
   "cell_type": "code",
   "execution_count": 5,
   "metadata": {},
   "outputs": [
    {
     "name": "stdout",
     "output_type": "stream",
     "text": [
      "Jiang Similarity - Brown IC  0.5471030808565704\n",
      "Jiang Similarity - Genesis IC  0.4181394330365746\n"
     ]
    }
   ],
   "source": [
    "#Jiang Similarity\n",
    "print(\"Jiang Similarity - Brown IC \", district.jcn_similarity(city, brown_ic))\n",
    "print(\"Jiang Similarity - Genesis IC \",district.jcn_similarity(city, genesis_ic))"
   ]
  },
  {
   "cell_type": "code",
   "execution_count": 6,
   "metadata": {},
   "outputs": [
    {
     "name": "stdout",
     "output_type": "stream",
     "text": [
      "Synset('bank.v.03')\n",
      "Synset('savings_bank.n.02')\n"
     ]
    }
   ],
   "source": [
    "#Lesk Similarity\n",
    "from nltk.wsd import lesk\n",
    "sent = ['I', 'bank', 'on', 'his', 'money', 'at', 'the', 'river', 'bank', '.']\n",
    "print(lesk(sent, 'bank','v'))\n",
    "print(lesk(sent, 'bank'))"
   ]
  },
  {
   "cell_type": "code",
   "execution_count": null,
   "metadata": {},
   "outputs": [],
   "source": []
  }
 ],
 "metadata": {
  "kernelspec": {
   "display_name": "Python 3",
   "language": "python",
   "name": "python3"
  },
  "language_info": {
   "codemirror_mode": {
    "name": "ipython",
    "version": 3
   },
   "file_extension": ".py",
   "mimetype": "text/x-python",
   "name": "python",
   "nbconvert_exporter": "python",
   "pygments_lexer": "ipython3",
   "version": "3.8.3"
  }
 },
 "nbformat": 4,
 "nbformat_minor": 2
}
