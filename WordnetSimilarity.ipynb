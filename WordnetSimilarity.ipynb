{
 "cells": [
  {
   "cell_type": "markdown",
   "metadata": {},
   "source": [
    "# WordNet Assignment\n"
   ]
  },
  {
   "cell_type": "markdown",
   "metadata": {},
   "source": [
    "##  Path Based Similarity"
   ]
  },
  {
   "cell_type": "code",
   "execution_count": 9,
   "metadata": {},
   "outputs": [],
   "source": [
    "from nltk.corpus import wordnet as wn"
   ]
  },
  {
   "cell_type": "code",
   "execution_count": 10,
   "metadata": {},
   "outputs": [
    {
     "name": "stdout",
     "output_type": "stream",
     "text": [
      "Path based similarity for chair and table:  0.06666666666666667\n",
      "Path based similarity for chair and chair:  1.0\n"
     ]
    }
   ],
   "source": [
    "syn1 = wn.synsets('chair')[0]\n",
    "syn2 = wn.synsets('table')[0]\n",
    "print(\"Path based similarity for chair and table: \",syn1.path_similarity(syn2))\n",
    "print(\"Path based similarity for chair and chair: \",syn1.path_similarity(syn1))"
   ]
  },
  {
   "cell_type": "markdown",
   "metadata": {},
   "source": [
    "## Leacock Chordorow Similarity"
   ]
  },
  {
   "cell_type": "code",
   "execution_count": 11,
   "metadata": {},
   "outputs": [
    {
     "name": "stdout",
     "output_type": "stream",
     "text": [
      "Leacock Chordorow similarity for chair and table:  0.9295359586241757\n",
      "Leacock Chordorow similarity for chair and chair:  3.6375861597263857\n",
      "\n",
      "Leacock Chordorow similarity for mango and apple:  0.8043728156701697\n",
      "Leacock Chordorow similarity for mango and mango:  3.6375861597263857\n"
     ]
    }
   ],
   "source": [
    "syn1 = wn.synsets('chair')[0]\n",
    "syn2 = wn.synsets('table')[0]\n",
    "print(\"Leacock Chordorow similarity for chair and table: \",syn1.lch_similarity(syn2))\n",
    "print(\"Leacock Chordorow similarity for chair and chair: \",syn1.lch_similarity(syn1))\n",
    "\n",
    "mango = wn.synset('mango.n.01')\n",
    "apple = wn.synset('apple.n.01')\n",
    "print(\"\\nLeacock Chordorow similarity for mango and apple: \",mango.lch_similarity(apple))\n",
    "print(\"Leacock Chordorow similarity for mango and mango: \",mango.lch_similarity(mango))\n"
   ]
  },
  {
   "cell_type": "markdown",
   "metadata": {},
   "source": [
    "## Resnik Similarity"
   ]
  },
  {
   "cell_type": "code",
   "execution_count": 12,
   "metadata": {},
   "outputs": [
    {
     "name": "stdout",
     "output_type": "stream",
     "text": [
      "chair and table Similarity\n",
      "brown IC  -0.0\n",
      "Genesis IC  -0.08306855877005931\n",
      "\n",
      "chair and chair Similarity\n",
      "brown IC  9.792771078600483\n",
      "Genesis IC  9.690350087817059\n",
      "\n",
      "mango and apple Similarity\n",
      "brown IC  1.5318337432196856\n",
      "Genesis IC  1.226570659414355\n",
      "\n",
      "mango and mango Similarity\n",
      "brown IC  1e+300\n",
      "Genesis IC  1e+300\n"
     ]
    }
   ],
   "source": [
    "from nltk.corpus import wordnet_ic\n",
    "brown_ic = wordnet_ic.ic('ic-brown.dat')\n",
    "from nltk.corpus import genesis\n",
    "genesis_ic = wn.ic(genesis, False, 0.0)\n",
    "chair = wn.synset('chair.n.01')\n",
    "table = wn.synset('table.n.01')\n",
    "print(\"chair and table Similarity\")\n",
    "print(\"brown IC \", chair.res_similarity(table, brown_ic))\n",
    "print(\"Genesis IC \",chair.res_similarity(table, genesis_ic))\n",
    "print(\"\\nchair and chair Similarity\")\n",
    "print(\"brown IC \", chair.res_similarity(chair, brown_ic))\n",
    "print(\"Genesis IC \",chair.res_similarity(chair, genesis_ic))\n",
    "\n",
    "mango = wn.synset('mango.n.01')\n",
    "apple = wn.synset('apple.n.01')\n",
    "print(\"\\nmango and apple Similarity\")\n",
    "print(\"brown IC \", mango.res_similarity(apple, brown_ic))\n",
    "print(\"Genesis IC \",mango.res_similarity(apple, genesis_ic))\n",
    "print(\"\\nmango and mango Similarity\")\n",
    "print(\"brown IC \", mango.res_similarity(mango, brown_ic))\n",
    "print(\"Genesis IC \",mango.res_similarity(mango, genesis_ic))\n"
   ]
  },
  {
   "cell_type": "markdown",
   "metadata": {},
   "source": [
    "## Lin Similarity  "
   ]
  },
  {
   "cell_type": "code",
   "execution_count": 13,
   "metadata": {},
   "outputs": [
    {
     "name": "stdout",
     "output_type": "stream",
     "text": [
      "chair and table Similarity\n",
      "brown IC  -0.0\n",
      "Genesis IC  -1.661371175401186e-301\n",
      "\n",
      "chair and chair Similarity\n",
      "brown IC  1.0\n",
      "Genesis IC  1.0\n",
      "\n",
      "mango and apple Similarity\n",
      "brown IC  3.063667486439371e-300\n",
      "Genesis IC  2.45314131882871e-300\n",
      "\n",
      "Dog and Cat Similarity\n",
      "brown IC  0.8768009843733973\n",
      "Genesis IC  0.8043806652422293\n"
     ]
    }
   ],
   "source": [
    "print(\"chair and table Similarity\")\n",
    "print(\"brown IC \", chair.lin_similarity(table, brown_ic))\n",
    "print(\"Genesis IC \",chair.lin_similarity(table, genesis_ic))\n",
    "\n",
    "print(\"\\nchair and chair Similarity\")\n",
    "print(\"brown IC \", chair.lin_similarity(chair, brown_ic))\n",
    "print(\"Genesis IC \",chair.lin_similarity(chair, genesis_ic))\n",
    "\n",
    "\n",
    "mango = wn.synset('mango.n.01')\n",
    "apple = wn.synset('apple.n.01')\n",
    "print(\"\\nmango and apple Similarity\")\n",
    "print(\"brown IC \", mango.lin_similarity(apple, brown_ic))\n",
    "print(\"Genesis IC \",mango.lin_similarity(apple, genesis_ic))\n",
    "\n",
    "\n",
    "dog = wn.synset('dog.n.01')\n",
    "cat = wn.synset('cat.n.01')\n",
    "print(\"\\nDog and Cat Similarity\")\n",
    "print(\"brown IC \", dog.lin_similarity(cat, brown_ic))\n",
    "print(\"Genesis IC \",dog.lin_similarity(cat, genesis_ic))"
   ]
  },
  {
   "cell_type": "markdown",
   "metadata": {},
   "source": [
    "## Jiang Cornath Similarity "
   ]
  },
  {
   "cell_type": "code",
   "execution_count": 14,
   "metadata": {},
   "outputs": [
    {
     "name": "stdout",
     "output_type": "stream",
     "text": [
      "Dog and Cat Similarity\n",
      "brown IC  0.4497755285516739\n",
      "Genesis IC  0.28539390848096946\n",
      "\n",
      "Dog and Dog Similarity\n",
      "brown IC  1e+300\n",
      "Genesis IC  1e+300\n"
     ]
    }
   ],
   "source": [
    "print(\"Dog and Cat Similarity\")\n",
    "print(\"brown IC \", dog.jcn_similarity(cat, brown_ic))\n",
    "print(\"Genesis IC \",dog.jcn_similarity(cat, genesis_ic))\n",
    "\n",
    "print(\"\\nDog and Dog Similarity\")\n",
    "print(\"brown IC \", dog.jcn_similarity(dog, brown_ic))\n",
    "print(\"Genesis IC \",dog.jcn_similarity(dog, genesis_ic))"
   ]
  },
  {
   "cell_type": "markdown",
   "metadata": {},
   "source": [
    "## Lesk Algorithm"
   ]
  },
  {
   "cell_type": "code",
   "execution_count": 35,
   "metadata": {},
   "outputs": [
    {
     "name": "stdout",
     "output_type": "stream",
     "text": [
      "Synset('deposit.v.02')\n",
      "Synset('savings_bank.n.02')\n"
     ]
    }
   ],
   "source": [
    "#lesk algo\n",
    "from nltk.wsd import lesk\n",
    "sent = ['I', 'bank', 'on', 'the', 'SBI','bank']\n",
    "\n",
    "print(lesk(sent, 'bank', 'v'))\n",
    "print(lesk(sent, 'bank', 'n'))"
   ]
  },
  {
   "cell_type": "code",
   "execution_count": 16,
   "metadata": {},
   "outputs": [
    {
     "name": "stdout",
     "output_type": "stream",
     "text": [
      "Synset('bank.n.01') sloping land (especially the slope beside a body of water)\n",
      "Synset('depository_financial_institution.n.01') a financial institution that accepts deposits and channels the money into lending activities\n",
      "Synset('bank.n.03') a long ridge or pile\n",
      "Synset('bank.n.04') an arrangement of similar objects in a row or in tiers\n",
      "Synset('bank.n.05') a supply or stock held in reserve for future use (especially in emergencies)\n",
      "Synset('bank.n.06') the funds held by a gambling house or the dealer in some gambling games\n",
      "Synset('bank.n.07') a slope in the turn of a road or track; the outside is higher than the inside in order to reduce the effects of centrifugal force\n",
      "Synset('savings_bank.n.02') a container (usually with a slot in the top) for keeping money at home\n",
      "Synset('bank.n.09') a building in which the business of banking transacted\n",
      "Synset('bank.n.10') a flight maneuver; aircraft tips laterally about its longitudinal axis (especially in turning)\n",
      "Synset('bank.v.01') tip laterally\n",
      "Synset('bank.v.02') enclose with a bank\n",
      "Synset('bank.v.03') do business with a bank or keep an account at a bank\n",
      "Synset('bank.v.04') act as the banker in a game or in gambling\n",
      "Synset('bank.v.05') be in the banking business\n",
      "Synset('deposit.v.02') put into a bank account\n",
      "Synset('bank.v.07') cover with ashes so to control the rate of burning\n",
      "Synset('trust.v.01') have confidence or faith in\n"
     ]
    }
   ],
   "source": [
    "for ss in wn.synsets('bank'):\n",
    "    print(ss, ss.definition())"
   ]
  },
  {
   "cell_type": "code",
   "execution_count": null,
   "metadata": {},
   "outputs": [],
   "source": []
  },
  {
   "cell_type": "code",
   "execution_count": null,
   "metadata": {},
   "outputs": [],
   "source": []
  }
 ],
 "metadata": {
  "kernelspec": {
   "display_name": "Python 3",
   "language": "python",
   "name": "python3"
  },
  "language_info": {
   "codemirror_mode": {
    "name": "ipython",
    "version": 3
   },
   "file_extension": ".py",
   "mimetype": "text/x-python",
   "name": "python",
   "nbconvert_exporter": "python",
   "pygments_lexer": "ipython3",
   "version": "3.8.3"
  }
 },
 "nbformat": 4,
 "nbformat_minor": 4
}
